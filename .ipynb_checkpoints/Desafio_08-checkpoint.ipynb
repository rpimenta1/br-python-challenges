{
 "cells": [
  {
   "cell_type": "markdown",
   "metadata": {
    "colab_type": "text",
    "id": "view-in-github"
   },
   "source": [
    "![](https://i.imgur.com/YX6UATs.png)"
   ]
  },
  {
   "cell_type": "markdown",
   "metadata": {
    "colab_type": "text",
    "id": "o3tkeMDNf6Jo"
   },
   "source": [
    "### Desafio 8\n",
    "\n",
    "Escreva um script Python para encontrar as 10 palavras mais longas em um arquivo de texto.\n",
    "O arquivo .txt está localizado na mesma pasta do projeto (**texto.txt**)."
   ]
  },
  {
   "cell_type": "code",
   "execution_count": 27,
   "metadata": {
    "colab": {},
    "colab_type": "code",
    "id": "ZYbqEWBG5nKx"
   },
   "outputs": [
    {
     "name": "stdout",
     "output_type": "stream",
     "text": [
      "['comprehensive', 'intermediate', 'interpreted', 'programming', 'readability', 'programmers', 'imperative', 'philosophy', 'emphasizes', 'functional']\n"
     ]
    }
   ],
   "source": [
    "with open ('texto.txt') as arquivo:\n",
    "    #remove caracteres especiais\n",
    "    palavras = arquivo.read().replace('.', ' ').replace(',', ' ').replace('-', ' ').replace('?',' ').replace(')', ' ').replace('(', ' ')\n",
    "    sep_palavras = palavras.split() #transforma em lista de strings\n",
    "    def ordenando_por_caract(lista):\n",
    "        sem_dup = set(lista) #remove palavras duplicadas\n",
    "        lista_2 = list(sem_dup) #retorna para lista\n",
    "        lista_ordenada = sorted(lista_2, key=len, reverse=True) #coloca em ordem de caracteres\n",
    "        return lista_ordenada[:10] # retorna apenas os top 10\n",
    "    \n",
    "print(ordenando_por_caract(sep_palavras))"
   ]
  }
 ],
 "metadata": {
  "anaconda-cloud": {},
  "colab": {
   "include_colab_link": true,
   "name": "Desafio 8.ipynb",
   "provenance": []
  },
  "kernelspec": {
   "display_name": "Python 3",
   "language": "python",
   "name": "python3"
  },
  "language_info": {
   "codemirror_mode": {
    "name": "ipython",
    "version": 3
   },
   "file_extension": ".py",
   "mimetype": "text/x-python",
   "name": "python",
   "nbconvert_exporter": "python",
   "pygments_lexer": "ipython3",
   "version": "3.8.8"
  }
 },
 "nbformat": 4,
 "nbformat_minor": 1
}
