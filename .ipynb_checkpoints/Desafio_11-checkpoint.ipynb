{
 "cells": [
  {
   "cell_type": "markdown",
   "metadata": {
    "colab_type": "text",
    "id": "view-in-github"
   },
   "source": [
    "![](https://i.imgur.com/YX6UATs.png)"
   ]
  },
  {
   "cell_type": "markdown",
   "metadata": {
    "colab_type": "text",
    "id": "y1R0m4oWf6Jz"
   },
   "source": [
    "### Desafio 11\n",
    "Dados uma sequência com `n` números inteiros, determinar quantos números da sequência são pares e quantos são ímpares.\\\n",
    "Por exemplo, para a sequência\n",
    "\n",
    "`6   2   7  -5   8  -4`\n",
    "\n",
    "a sua função deve retornar o número 4 para o número de pares e 2 para o de ímpares.\\\n",
    "A saída deve ser um **tupla** contendo primeiramente o número de pares e em seguida o número de ímpares.\\\n",
    "Para o exemplo anterior, a saída seria `(4, 2)`."
   ]
  },
  {
   "cell_type": "code",
   "execution_count": 1,
   "metadata": {
    "colab": {},
    "colab_type": "code",
    "id": "pSIzX4zUf6Jz"
   },
   "outputs": [],
   "source": [
    "def contar_pares_impares(entrada):\n",
    "    par = 0\n",
    "    impar= 0\n",
    "    lista = [] \n",
    "    for n in entrada: #percorra cada número da entrada\n",
    "        if n % 2 == 0: #caso seja par\n",
    "            par += 1 #caso seja par some 1\n",
    "        else: \n",
    "            impar += 1 #caso seja impar some 1\n",
    "    lista.append(par) #preencher com a contagem de valores pares\n",
    "    lista.append(impar) #preencher com a contagem de valores impares\n",
    "    return tuple(lista)   \n",
    "    "
   ]
  },
  {
   "cell_type": "code",
   "execution_count": 3,
   "metadata": {
    "colab": {},
    "colab_type": "code",
    "id": "OQG6erslSjri"
   },
   "outputs": [
    {
     "name": "stdout",
     "output_type": "stream",
     "text": [
      "(3, 3)\n"
     ]
    }
   ],
   "source": [
    "print(contar_pares_impares([-3, 2, 7, -5, 8, -4]))"
   ]
  }
 ],
 "metadata": {
  "anaconda-cloud": {},
  "colab": {
   "include_colab_link": true,
   "name": "Desafio 11.ipynb",
   "provenance": []
  },
  "kernelspec": {
   "display_name": "Python 3",
   "language": "python",
   "name": "python3"
  },
  "language_info": {
   "codemirror_mode": {
    "name": "ipython",
    "version": 3
   },
   "file_extension": ".py",
   "mimetype": "text/x-python",
   "name": "python",
   "nbconvert_exporter": "python",
   "pygments_lexer": "ipython3",
   "version": "3.8.8"
  }
 },
 "nbformat": 4,
 "nbformat_minor": 1
}
