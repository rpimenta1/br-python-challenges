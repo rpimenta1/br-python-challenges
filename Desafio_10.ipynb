{
 "cells": [
  {
   "cell_type": "markdown",
   "metadata": {
    "colab_type": "text",
    "id": "view-in-github"
   },
   "source": [
    "![](https://i.imgur.com/YX6UATs.png)"
   ]
  },
  {
   "cell_type": "markdown",
   "metadata": {
    "colab_type": "text",
    "id": "a4-FLDRof6Jv"
   },
   "source": [
    "### Desafio 10\n",
    "\n",
    "Dada uma lista, divida-a em 3 partes iguais e reverta a ordem de cada lista.\n",
    "\n",
    "**Exemplo:** \n",
    "\n",
    "Entrada: \\\n",
    "sampleList = [11, 45, 8, 23, 14, 12, 78, 45, 89]\n",
    "\n",
    "Saída: \\\n",
    "Parte 1 [8, 45, 11] \\\n",
    "Parte 2 [12, 14, 23] \\\n",
    "Parte 3 [89, 45, 78] "
   ]
  },
  {
   "cell_type": "code",
   "execution_count": 15,
   "metadata": {
    "colab": {},
    "colab_type": "code",
    "id": "IJ70pUjnf6Jw"
   },
   "outputs": [
    {
     "name": "stdout",
     "output_type": "stream",
     "text": [
      "A parte 1 é: [8, 45, 11]\n",
      "A parte 2 é: [12, 14, 23]\n",
      "A parte 3 é: [89, 45, 78]\n"
     ]
    }
   ],
   "source": [
    "sampleList = [11, 45, 8, 23, 14, 12, 78, 45, 89]\n",
    "\n",
    "lista1 = []\n",
    "lista2 = []\n",
    "lista3 = []\n",
    "\n",
    "qtd_num = len(sampleList) / 3\n",
    "if qtd_num % 3 == 0:\n",
    "    for n in sampleList:\n",
    "        if len(lista1) < qtd_num:\n",
    "            lista1.append(n)\n",
    "            grupo1 = reversed(lista1)\n",
    "        elif len(lista2) < qtd_num:\n",
    "            lista2.append(n)\n",
    "            grupo2 = reversed(lista2)\n",
    "        else:\n",
    "            if len(lista3) < qtd_num:\n",
    "                lista3.append(n)\n",
    "                grupo3 = reversed(lista3)\n",
    "    print('A parte 1 é: {}'.format(list(grupo1)))\n",
    "    print('A parte 2 é: {}'.format(list(grupo2)))\n",
    "    print('A parte 3 é: {}'.format(list(grupo3)))\n",
    "else:\n",
    "    print('A lista não pode ser dividida em 3 parte iguais')"
   ]
  }
 ],
 "metadata": {
  "anaconda-cloud": {},
  "colab": {
   "include_colab_link": true,
   "name": "Desafio 10.ipynb",
   "provenance": []
  },
  "kernelspec": {
   "display_name": "Python 3",
   "language": "python",
   "name": "python3"
  },
  "language_info": {
   "codemirror_mode": {
    "name": "ipython",
    "version": 3
   },
   "file_extension": ".py",
   "mimetype": "text/x-python",
   "name": "python",
   "nbconvert_exporter": "python",
   "pygments_lexer": "ipython3",
   "version": "3.8.8"
  }
 },
 "nbformat": 4,
 "nbformat_minor": 1
}
